{
 "cells": [
  {
   "cell_type": "code",
   "execution_count": 14,
   "metadata": {},
   "outputs": [
    {
     "name": "stdout",
     "output_type": "stream",
     "text": [
      "Epoch 1: loss = 0.0010\n",
      "Epoch 2: loss = 0.0004\n",
      "Epoch 3: loss = 0.0003\n",
      "Epoch 4: loss = 0.0003\n",
      "Epoch 5: loss = 0.0002\n"
     ]
    }
   ],
   "source": [
    "import torch\n",
    "import torch.nn as nn\n",
    "import torch.nn.functional as F\n",
    "from torchvision import datasets, transforms\n",
    "from torch.utils.data import DataLoader\n",
    "\n",
    "device = torch.device(\"cuda\" if torch.cuda.is_available() else \"cpu\")\n",
    "\n",
    "# Load Unlabeled CIFAR-10\n",
    "transform = transforms.Compose([\n",
    "    transforms.ToTensor(),\n",
    "    transforms.RandomResizedCrop(32, scale=(0.8, 1.0)),\n",
    "    transforms.RandomHorizontalFlip()\n",
    "])\n",
    "cifar10_unlabeled = datasets.CIFAR10(root='./data', train=True, download=True, transform=transform)\n",
    "unlabeled_loader = DataLoader(cifar10_unlabeled, batch_size=64, shuffle=True)\n",
    "\n",
    "# Patch projection layer\n",
    "patch_dim = 4 * 4 * 3  # = 48\n",
    "embed_dim = 64\n",
    "patch_proj = nn.Linear(patch_dim, embed_dim).to(device)\n",
    "\n",
    "# Decoder\n",
    "class SimpleDecoder(nn.Module):\n",
    "    def __init__(self, input_dim, patch_dim):\n",
    "        super().__init__()\n",
    "        self.fc = nn.Sequential(\n",
    "            nn.Linear(input_dim, patch_dim),\n",
    "            nn.ReLU(),\n",
    "            nn.Linear(patch_dim, patch_dim)\n",
    "        )\n",
    "    def forward(self, x):\n",
    "        return self.fc(x)\n",
    "\n",
    "decoder = SimpleDecoder(embed_dim, patch_dim).to(device)\n",
    "\n",
    "# Optimizer\n",
    "optimizer = torch.optim.AdamW(list(patch_proj.parameters()) + list(decoder.parameters()), lr=1e-3)\n",
    "\n",
    "# Patch extraction function\n",
    "def extract_patches(x, patch_size=4):\n",
    "    return F.unfold(x, kernel_size=patch_size, stride=patch_size).transpose(1, 2)  # (B, N, P^2*C)\n",
    "\n",
    "# Self-supervised pretraining loop\n",
    "for epoch in range(5):  # you can increase to 100\n",
    "    for images, _ in unlabeled_loader:\n",
    "        images = images.to(device)\n",
    "        patches = extract_patches(images, patch_size=4)  # (B, N, 48)\n",
    "\n",
    "        B, N, _ = patches.shape\n",
    "        n_keep = int(N * 0.25)\n",
    "        idx = torch.rand(B, N).argsort(dim=1)[:, :n_keep]\n",
    "\n",
    "        visible = torch.stack([\n",
    "            patches[i, idx[i]] for i in range(B)\n",
    "        ])  # (B, n_keep, 48)\n",
    "\n",
    "        # Project to latent space\n",
    "        encoded = patch_proj(visible)  # (B, n_keep, 64)\n",
    "\n",
    "        # Reconstruct\n",
    "        decoded = decoder(encoded)  # (B, n_keep, 48)\n",
    "\n",
    "        # Loss: MSE between reconstructed and original visible patches\n",
    "        loss = ((decoded - visible.detach()) ** 2).mean()\n",
    "\n",
    "        optimizer.zero_grad()\n",
    "        loss.backward()\n",
    "        optimizer.step()\n",
    "\n",
    "    print(f\"Epoch {epoch+1}: loss = {loss.item():.4f}\")\n"
   ]
  }
 ],
 "metadata": {
  "kernelspec": {
   "display_name": "base",
   "language": "python",
   "name": "python3"
  },
  "language_info": {
   "codemirror_mode": {
    "name": "ipython",
    "version": 3
   },
   "file_extension": ".py",
   "mimetype": "text/x-python",
   "name": "python",
   "nbconvert_exporter": "python",
   "pygments_lexer": "ipython3",
   "version": "3.12.7"
  }
 },
 "nbformat": 4,
 "nbformat_minor": 2
}
