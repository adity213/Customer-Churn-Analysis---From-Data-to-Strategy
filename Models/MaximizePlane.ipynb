{
  "cells": [
    {
      "cell_type": "code",
      "execution_count": 1,
      "metadata": {
        "id": "PhF7YgMEotpE"
      },
      "outputs": [],
      "source": [
        "import tensorflow as tf\n",
        "from tensorflow.keras.models import Sequential\n",
        "from tensorflow.keras.layers import Conv2D, MaxPooling2D, Dense, Dropout, BatchNormalization, GlobalAveragePooling2D, Input,MaxPool2D, Flatten\n",
        "from tensorflow.keras.preprocessing.image import ImageDataGenerator\n",
        "from tensorflow.keras.callbacks import EarlyStopping, ReduceLROnPlateau\n",
        "from tensorflow.keras.datasets import cifar10\n",
        "from tensorflow.keras.optimizers import Adam\n",
        "from tensorflow.keras.losses import BinaryCrossentropy\n",
        "from tensorflow.keras.models import load_model\n",
        "from tensorflow.keras.callbacks import LearningRateScheduler\n",
        "from tensorflow.keras.preprocessing.image import ImageDataGenerator\n",
        "from tensorflow.keras.regularizers import l2\n",
        "from tensorflow.keras.optimizers import Adam, SGD,Nadam,AdamW,RMSprop\n",
        "\n",
        "\n",
        "import matplotlib.pyplot as plt\n",
        "import numpy as np\n",
        "\n",
        "from sklearn.metrics import roc_curve, auc, confusion_matrix, ConfusionMatrixDisplay\n",
        "import matplotlib.pyplot as plt\n",
        "import numpy as np"
      ]
    },
    {
      "cell_type": "code",
      "execution_count": 2,
      "metadata": {
        "id": "h7oR5riTotpH"
      },
      "outputs": [],
      "source": [
        "model = tf.keras.models.load_model('ship_non_ship_cnn_model.keras')\n",
        "\n",
        "\n",
        "for layer in model.layers:\n",
        "    layer.trainable = False\n",
        "\n",
        "# ---- Unfreeze only the last Conv2D and GlobalAveragePooling2D layers ----\n",
        "# Find last Conv2D\n",
        "last_conv2d = None\n",
        "for layer in reversed(model.layers):\n",
        "    if isinstance(layer, tf.keras.layers.Conv2D):\n",
        "        last_conv2d = layer\n",
        "        break\n",
        "\n",
        "# Find GlobalAveragePooling2D\n",
        "gap_layer = None\n",
        "for layer in model.layers:\n",
        "    if isinstance(layer, tf.keras.layers.GlobalAveragePooling2D):\n",
        "        gap_layer = layer\n",
        "        break\n",
        "\n",
        "if last_conv2d is not None:\n",
        "    last_conv2d.trainable = True\n",
        "if gap_layer is not None:\n",
        "    gap_layer.trainable = True\n",
        "\n",
        "# ---- Recompile ----\n",
        "model.compile(optimizer=Adam(learning_rate=5.38e-3), loss='binary_crossentropy', metrics=['accuracy'])\n"
      ]
    },
    {
      "cell_type": "code",
      "execution_count": 3,
      "metadata": {
        "colab": {
          "base_uri": "https://localhost:8080/"
        },
        "id": "CiXKbOIaotpI",
        "outputId": "c2534e92-7c96-4598-b955-93cce3abd2ab"
      },
      "outputs": [
        {
          "output_type": "stream",
          "name": "stdout",
          "text": [
            "Downloading data from https://www.cs.toronto.edu/~kriz/cifar-10-python.tar.gz\n",
            "\u001b[1m170498071/170498071\u001b[0m \u001b[32m━━━━━━━━━━━━━━━━━━━━\u001b[0m\u001b[37m\u001b[0m \u001b[1m2s\u001b[0m 0us/step\n"
          ]
        }
      ],
      "source": [
        "airplane_class = 0\n",
        "(x_train, y_train), (x_test, y_test) = cifar10.load_data()\n",
        "\n",
        "def prepare_binary_dataset(x, y, target_class):\n",
        "    target_indices = np.where(y == target_class)[0]\n",
        "    other_indices = np.where(y != target_class)[0]\n",
        "    np.random.shuffle(other_indices)\n",
        "    other_indices = other_indices[:len(target_indices)]\n",
        "\n",
        "    selected_indices = np.concatenate([target_indices, other_indices])\n",
        "    np.random.shuffle(selected_indices)\n",
        "    x_selected = x[selected_indices].astype('float32') / 255.0\n",
        "    y_selected = np.where(y[selected_indices] == target_class, 1, 0)\n",
        "    return x_selected, y_selected\n",
        "\n",
        "x_train_airplane, y_train_airplane = prepare_binary_dataset(x_train, y_train, airplane_class)\n",
        "x_test_airplane, y_test_airplane = prepare_binary_dataset(x_test, y_test, airplane_class)"
      ]
    },
    {
      "cell_type": "code",
      "execution_count": 4,
      "metadata": {
        "colab": {
          "base_uri": "https://localhost:8080/"
        },
        "id": "ztxfnz1UotpI",
        "outputId": "74d4063f-5126-42c9-afef-76d9a8cd5f9e"
      },
      "outputs": [
        {
          "output_type": "stream",
          "name": "stdout",
          "text": [
            "Fine-tuning model on airplane and non-airplane images...\n",
            "Epoch 1/20\n"
          ]
        },
        {
          "output_type": "stream",
          "name": "stderr",
          "text": [
            "/usr/local/lib/python3.11/dist-packages/keras/src/trainers/data_adapters/py_dataset_adapter.py:121: UserWarning: Your `PyDataset` class should call `super().__init__(**kwargs)` in its constructor. `**kwargs` can include `workers`, `use_multiprocessing`, `max_queue_size`. Do not pass these arguments to `fit()`, as they will be ignored.\n",
            "  self._warn_if_super_not_called()\n"
          ]
        },
        {
          "output_type": "stream",
          "name": "stdout",
          "text": [
            "\u001b[1m1250/1250\u001b[0m \u001b[32m━━━━━━━━━━━━━━━━━━━━\u001b[0m\u001b[37m\u001b[0m \u001b[1m54s\u001b[0m 40ms/step - accuracy: 0.7175 - loss: 0.5795 - val_accuracy: 0.7790 - val_loss: 0.4880 - learning_rate: 0.0054\n",
            "Epoch 2/20\n",
            "\u001b[1m1250/1250\u001b[0m \u001b[32m━━━━━━━━━━━━━━━━━━━━\u001b[0m\u001b[37m\u001b[0m \u001b[1m83s\u001b[0m 41ms/step - accuracy: 0.7524 - loss: 0.5314 - val_accuracy: 0.7625 - val_loss: 0.4900 - learning_rate: 0.0054\n",
            "Epoch 3/20\n",
            "\u001b[1m1250/1250\u001b[0m \u001b[32m━━━━━━━━━━━━━━━━━━━━\u001b[0m\u001b[37m\u001b[0m \u001b[1m77s\u001b[0m 37ms/step - accuracy: 0.7455 - loss: 0.5363 - val_accuracy: 0.7715 - val_loss: 0.4930 - learning_rate: 0.0054\n",
            "Epoch 4/20\n",
            "\u001b[1m1250/1250\u001b[0m \u001b[32m━━━━━━━━━━━━━━━━━━━━\u001b[0m\u001b[37m\u001b[0m \u001b[1m89s\u001b[0m 42ms/step - accuracy: 0.7456 - loss: 0.5337 - val_accuracy: 0.7800 - val_loss: 0.4811 - learning_rate: 0.0054\n",
            "Epoch 5/20\n",
            "\u001b[1m1250/1250\u001b[0m \u001b[32m━━━━━━━━━━━━━━━━━━━━\u001b[0m\u001b[37m\u001b[0m \u001b[1m75s\u001b[0m 37ms/step - accuracy: 0.7524 - loss: 0.5283 - val_accuracy: 0.7705 - val_loss: 0.4903 - learning_rate: 0.0054\n",
            "Epoch 6/20\n",
            "\u001b[1m1250/1250\u001b[0m \u001b[32m━━━━━━━━━━━━━━━━━━━━\u001b[0m\u001b[37m\u001b[0m \u001b[1m48s\u001b[0m 39ms/step - accuracy: 0.7444 - loss: 0.5434 - val_accuracy: 0.7880 - val_loss: 0.4664 - learning_rate: 0.0054\n",
            "Epoch 7/20\n",
            "\u001b[1m1250/1250\u001b[0m \u001b[32m━━━━━━━━━━━━━━━━━━━━\u001b[0m\u001b[37m\u001b[0m \u001b[1m81s\u001b[0m 38ms/step - accuracy: 0.7560 - loss: 0.5288 - val_accuracy: 0.7880 - val_loss: 0.4721 - learning_rate: 0.0054\n",
            "Epoch 8/20\n",
            "\u001b[1m1250/1250\u001b[0m \u001b[32m━━━━━━━━━━━━━━━━━━━━\u001b[0m\u001b[37m\u001b[0m \u001b[1m47s\u001b[0m 37ms/step - accuracy: 0.7469 - loss: 0.5423 - val_accuracy: 0.7850 - val_loss: 0.4771 - learning_rate: 0.0054\n",
            "Epoch 9/20\n",
            "\u001b[1m1249/1250\u001b[0m \u001b[32m━━━━━━━━━━━━━━━━━━━\u001b[0m\u001b[37m━\u001b[0m \u001b[1m0s\u001b[0m 33ms/step - accuracy: 0.7442 - loss: 0.5377\n",
            "Epoch 9: ReduceLROnPlateau reducing learning rate to 0.002689999993890524.\n",
            "\u001b[1m1250/1250\u001b[0m \u001b[32m━━━━━━━━━━━━━━━━━━━━\u001b[0m\u001b[37m\u001b[0m \u001b[1m46s\u001b[0m 37ms/step - accuracy: 0.7443 - loss: 0.5377 - val_accuracy: 0.7800 - val_loss: 0.4800 - learning_rate: 0.0054\n",
            "Epoch 10/20\n",
            "\u001b[1m1250/1250\u001b[0m \u001b[32m━━━━━━━━━━━━━━━━━━━━\u001b[0m\u001b[37m\u001b[0m \u001b[1m82s\u001b[0m 37ms/step - accuracy: 0.7517 - loss: 0.5246 - val_accuracy: 0.7805 - val_loss: 0.4717 - learning_rate: 0.0027\n",
            "Epoch 11/20\n",
            "\u001b[1m1250/1250\u001b[0m \u001b[32m━━━━━━━━━━━━━━━━━━━━\u001b[0m\u001b[37m\u001b[0m \u001b[1m83s\u001b[0m 38ms/step - accuracy: 0.7440 - loss: 0.5338 - val_accuracy: 0.7875 - val_loss: 0.4677 - learning_rate: 0.0027\n",
            "Epoch 11: early stopping\n",
            "Restoring model weights from the end of the best epoch: 6.\n"
          ]
        }
      ],
      "source": [
        "def apply_cutout(image, size=8, n_holes=1):\n",
        "    h, w = image.shape[0], image.shape[1]\n",
        "    for n in range(n_holes):\n",
        "        # Random position of cutout\n",
        "        y = np.random.randint(h)\n",
        "        x = np.random.randint(w)\n",
        "\n",
        "        # Ensure cutout stays within image bounds\n",
        "        y1 = np.clip(y - size // 2, 0, h)\n",
        "        y2 = np.clip(y + size // 2, 0, h)\n",
        "        x1 = np.clip(x - size // 2, 0, w)\n",
        "        x2 = np.clip(x + size // 2, 0, w)\n",
        "\n",
        "        # Set the cutout region to zero\n",
        "        image[y1:y2, x1:x2, :] = 0\n",
        "    return image\n",
        "def cutout_preprocess(img):\n",
        "    return apply_cutout(img)\n",
        "\n",
        "# Data augmentation for airplane\n",
        "datagen_airplane = ImageDataGenerator(\n",
        "    rotation_range=30,\n",
        "    width_shift_range=0.1,\n",
        "    height_shift_range=0.1,\n",
        "    zoom_range=0.12,\n",
        "    shear_range=0.15,\n",
        "    horizontal_flip=True,\n",
        "    preprocessing_function=apply_cutout\n",
        ")\n",
        "datagen_airplane.fit(x_train_airplane)\n",
        "\n",
        "callbacks_airplane = [\n",
        "    EarlyStopping(monitor='val_loss', patience=5, restore_best_weights=True, verbose=1),\n",
        "    ReduceLROnPlateau(monitor='val_loss', factor=0.5, patience=3, verbose=1)\n",
        "]\n",
        "\n",
        "print(\"Fine-tuning model on airplane and non-airplane images...\")\n",
        "history_airplane = model.fit(\n",
        "    datagen_airplane.flow(x_train_airplane, y_train_airplane, batch_size=8),\n",
        "    epochs=20,\n",
        "    validation_data=(x_test_airplane, y_test_airplane),\n",
        "    callbacks=callbacks_airplane,\n",
        "    steps_per_epoch=len(x_train_airplane) // 8,\n",
        "    verbose=1\n",
        ")\n",
        "\n",
        "model.save('airplane_non_airplane_cnn_model.keras')"
      ]
    },
    {
      "cell_type": "code",
      "source": [],
      "metadata": {
        "id": "csZ2Y62SrD8m"
      },
      "execution_count": null,
      "outputs": []
    }
  ],
  "metadata": {
    "kernelspec": {
      "display_name": "base",
      "language": "python",
      "name": "python3"
    },
    "language_info": {
      "codemirror_mode": {
        "name": "ipython",
        "version": 3
      },
      "file_extension": ".py",
      "mimetype": "text/x-python",
      "name": "python",
      "nbconvert_exporter": "python",
      "pygments_lexer": "ipython3",
      "version": "3.12.7"
    },
    "colab": {
      "provenance": []
    }
  },
  "nbformat": 4,
  "nbformat_minor": 0
}